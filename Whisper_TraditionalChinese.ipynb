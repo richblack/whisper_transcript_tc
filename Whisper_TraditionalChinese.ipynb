{
  "cells": [
    {
      "cell_type": "markdown",
      "id": "4ZWQTzfIVx-u",
      "metadata": {
        "id": "4ZWQTzfIVx-u"
      },
      "source": [
        "* OpenAI Whisper 可以把影片加字幕，但研究、訪談採取逐字稿的情景則不太合用，因無法辨識說話者，不會加標點。\n",
        "* 這個程式用 Whisper 把語音轉正體中文逐字稿、每句結束加上全形逗號（但只會加逗號），再儲存成「原檔名_output.txt」\n",
        "* 你可把文字檔下載後，截去不需要的部分、分段、加上合適標點（句號、驚歎號等）。"
      ]
    },
    {
      "cell_type": "markdown",
      "id": "G-FlcYdJRFwv",
      "metadata": {
        "id": "G-FlcYdJRFwv"
      },
      "source": [
        "# 安裝及檢查必要的程式庫"
      ]
    },
    {
      "cell_type": "markdown",
      "id": "n3iCq8j4WmAv",
      "metadata": {
        "id": "n3iCq8j4WmAv"
      },
      "source": [
        "執行每一格都按下「shift + Enter」它會執行這一格並跳到下一格，完成執行後左方會顯示數字而不是箭頭，這些是使用到的程式庫，如果沒安裝，它檢查完會去安裝，如果已經安裝了很快就跳到下一格。\n",
        "\n",
        "* Whisper 聽打需要安裝 Whisper 以及 ffmpeg。\n",
        "* Whisper 基本會轉換簡中，用 OpenCC 轉成正題中文。\n",
        "* 測試過用 C++ 寫的 opencc，某些依賴項放在 OS 中有可能找不到，用 opencc_python_reimplemented 解決此問題。"
      ]
    },
    {
      "cell_type": "code",
      "execution_count": null,
      "id": "JWRpUK2xT8kO",
      "metadata": {
        "colab": {
          "base_uri": "https://localhost:8080/"
        },
        "id": "JWRpUK2xT8kO",
        "outputId": "2d34513b-4812-4ceb-d82b-01c6538d6c56"
      },
      "outputs": [],
      "source": [
        "!pip install -U --quiet openai-whisper"
      ]
    },
    {
      "cell_type": "code",
      "execution_count": null,
      "id": "JLiKZmcdRKo9",
      "metadata": {
        "id": "JLiKZmcdRKo9"
      },
      "outputs": [],
      "source": [
        "!pip install --quiet ffmpeg-python"
      ]
    },
    {
      "cell_type": "code",
      "execution_count": null,
      "id": "ztmO9YYHDE_F",
      "metadata": {
        "colab": {
          "base_uri": "https://localhost:8080/"
        },
        "id": "ztmO9YYHDE_F",
        "outputId": "35b9b474-4871-4dff-d1e6-5ea976d45251"
      },
      "outputs": [],
      "source": [
        "!pip install --quiet opencc_python_reimplemented"
      ]
    },
    {
      "cell_type": "markdown",
      "id": "81f11bdc-458d-4df9-88f0-a034333158ff",
      "metadata": {
        "id": "81f11bdc-458d-4df9-88f0-a034333158ff"
      },
      "source": [
        "# 找到要轉檔的檔案路徑"
      ]
    },
    {
      "cell_type": "markdown",
      "id": "dMyTPa1vW9wy",
      "metadata": {
        "id": "dMyTPa1vW9wy"
      },
      "source": [
        "存入你要轉檔的原檔案，通常是 MP3 格式。\n",
        "\n",
        "* 如果你在本機使用 Anaconda/ JupyterLab，就把 mp3 檔放在檔案夾；\n",
        "* 如果在 Colab 就要在側邊欄上傳 mp3。 \n",
        "\n",
        "確定檔案擺好後執行這一格，找到你的 mp3 檔路徑（例如：./filename.mp3），複製下來。"
      ]
    },
    {
      "cell_type": "code",
      "execution_count": null,
      "id": "80b1f9c2-018e-4252-b3b2-2dac17feffd3",
      "metadata": {
        "colab": {
          "base_uri": "https://localhost:8080/"
        },
        "id": "80b1f9c2-018e-4252-b3b2-2dac17feffd3",
        "outputId": "722a0db1-def4-4464-ee0b-da09c15f0a40"
      },
      "outputs": [],
      "source": [
        "# 獲得相對路徑\n",
        "import os\n",
        "\n",
        "# Root dir\n",
        "root_directory = \".\"\n",
        "\n",
        "# travel all the dirs/ files\n",
        "for root, directories, files in os.walk(root_directory):\n",
        "    # root：current dir\n",
        "    # directories：sub dirs\n",
        "    # files：files list\n",
        "\n",
        "    # 输出当前目录路径\n",
        "    print(\"Current Dir:\", root)\n",
        "\n",
        "    # 输出当前目录中的文件\n",
        "    for file in files:\n",
        "        file_path = os.path.join(root, file)\n",
        "        print(\"File:\", file_path)"
      ]
    },
    {
      "cell_type": "markdown",
      "id": "CWG_wyx2ShXF",
      "metadata": {
        "id": "CWG_wyx2ShXF"
      },
      "source": [
        "# 導入必要的庫"
      ]
    },
    {
      "cell_type": "code",
      "execution_count": null,
      "id": "140c49ff-333d-464b-9ff8-8c20880a3dcc",
      "metadata": {
        "id": "140c49ff-333d-464b-9ff8-8c20880a3dcc"
      },
      "outputs": [],
      "source": [
        "import whisper\n",
        "import time\n",
        "from IPython.display import display, clear_output\n",
        "import re\n",
        "import opencc"
      ]
    },
    {
      "cell_type": "markdown",
      "id": "30051cca-32e4-4730-9db7-1496fe1efd61",
      "metadata": {
        "id": "30051cca-32e4-4730-9db7-1496fe1efd61"
      },
      "source": [
        "# 進行聽打"
      ]
    },
    {
      "cell_type": "code",
      "execution_count": null,
      "id": "bd1f387d-fb3c-4b12-8d97-10eb397b8b7e",
      "metadata": {
        "colab": {
          "base_uri": "https://localhost:8080/"
        },
        "id": "bd1f387d-fb3c-4b12-8d97-10eb397b8b7e",
        "outputId": "c0f442b3-30ed-4367-9e4d-28a65cba6389"
      },
      "outputs": [],
      "source": [
        "# 定義開始時間\n",
        "start_time = time.time()\n",
        "\n",
        "# 在 Mac/ Linux 的檔案路徑（從側邊複製相對路徑即可）\n",
        "input_file_path = r\"./file_to_proceed.mp3\"\n",
        "# 在 Windows 的檔案路徑（相對路徑常出錯，從檔案總管獲取絕對路徑，要從硬碟開始的全部）\n",
        "# input_file_path = r\"c:Mydocument/20240606陳勝騰meeting.mp3\"\n",
        "\n",
        "# 載入 Whisper 模型\n",
        "model = whisper.load_model(\"medium\")  # 有 small / medium / large，依照你的電腦算力選擇，large 常常會非常慢\n",
        "\n",
        "# 進行聽打，指定語言為中文（不指定會翻成英文）\n",
        "try:\n",
        "    result = model.transcribe(input_file_path, language=\"zh\")  # 指定語言為中文\n",
        "except Exception as e:\n",
        "    clear_output(wait=True)\n",
        "    display(f\"識別過程中出現錯誤: {str(e)}\")\n",
        "    raise\n",
        "\n",
        "# 計算總執行時間\n",
        "end_time = time.time()\n",
        "elapsed_time = end_time - start_time\n",
        "display(f\"識別過程共花費了 {elapsed_time:.2f} 秒\")\n",
        "\n",
        "# 獲取聽打後的本文和分段資料\n",
        "recognized_text = result[\"text\"]\n",
        "segments = result.get(\"segments\", [])\n",
        "\n",
        "# 用 opencc 將簡中轉換為正中（default 簡中）\n",
        "converter = opencc.OpenCC('s2t')\n",
        "recognized_text = converter.convert(recognized_text)\n",
        "\n",
        "# 在每個段落結尾添加中文全形逗號（只能逗號）\n",
        "new_recognized_text = \"\"\n",
        "for segment in segments:\n",
        "    # 獲取段落文本\n",
        "    segment_text = segment[\"text\"]\n",
        "    # 將段落文本轉換為繁體中文\n",
        "    segment_text = converter.convert(segment_text)\n",
        "    # 在段落尾部添加全形逗號\n",
        "    new_recognized_text += segment_text + \"，\"\n",
        "\n",
        "# 印出添加全形逗號後的文本，檢查是否出錯\n",
        "print(\"添加全形逗號後的文本：\")\n",
        "print(new_recognized_text)\n",
        "\n",
        "# 生成輸出文件路徑\n",
        "input_file_name = os.path.basename(input_file_path)\n",
        "input_file_name_without_ext = os.path.splitext(input_file_name)[0]\n",
        "output_file_name = f\"{input_file_name_without_ext}_output.txt\"\n",
        "output_file_path = os.path.join(os.path.dirname(input_file_path), output_file_name)\n",
        "\n",
        "# 將文本保存到「原檔名_output.txt」txt 文件\n",
        "with open(output_file_path, \"w\", encoding=\"utf-8\") as file:\n",
        "    file.write(new_recognized_text)\n",
        "\n",
        "print(\"文本已保存到\", output_file_path)"
      ]
    },
    {
      "cell_type": "markdown",
      "id": "mc8kDgGDXeVv",
      "metadata": {
        "id": "mc8kDgGDXeVv"
      },
      "source": [
        "# 下載完成的文字檔\n",
        "最後，從左側邊欄的檔案夾符號裡下載「原檔名_output.txt」即可使用。"
      ]
    },
    {
      "cell_type": "code",
      "execution_count": null,
      "id": "60dca263-1c43-4ddc-9ab3-c0aa117af673",
      "metadata": {
        "id": "60dca263-1c43-4ddc-9ab3-c0aa117af673"
      },
      "outputs": [],
      "source": []
    }
  ],
  "metadata": {
    "colab": {
      "provenance": []
    },
    "jpcodetoc-autonumbering": true,
    "jpcodetoc-showcode": false,
    "jpcodetoc-showmarkdowntxt": true,
    "kernelspec": {
      "display_name": "data-analytic",
      "language": "python",
      "name": "data-analytic"
    },
    "language_info": {
      "codemirror_mode": {
        "name": "ipython",
        "version": 3
      },
      "file_extension": ".py",
      "mimetype": "text/x-python",
      "name": "python",
      "nbconvert_exporter": "python",
      "pygments_lexer": "ipython3",
      "version": "3.9.18"
    }
  },
  "nbformat": 4,
  "nbformat_minor": 5
}
