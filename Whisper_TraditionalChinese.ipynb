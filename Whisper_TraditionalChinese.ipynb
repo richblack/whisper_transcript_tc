{
  "cells": [
    {
      "cell_type": "markdown",
      "id": "4ZWQTzfIVx-u",
      "metadata": {
        "id": "4ZWQTzfIVx-u"
      },
      "source": [
        "* OpenAI Whisper 可以把影片加字幕，但研究、訪談採取逐字稿的情景則不太合用，因無法辨識說話者，不會加標點。\n",
        "* 這個程式用 Whisper 把語音轉正體中文逐字稿、每句結束加上全形逗號（但只會加逗號），再儲存成「原檔名_output.txt」\n",
        "* 你可把文字檔下載後，截去不需要的部分、分段、加上合適標點（句號、驚歎號等）。"
      ]
    },
    {
      "cell_type": "markdown",
      "id": "G-FlcYdJRFwv",
      "metadata": {
        "id": "G-FlcYdJRFwv"
      },
      "source": [
        "# 安裝及檢查必要的程式庫"
      ]
    },
    {
      "cell_type": "markdown",
      "id": "n3iCq8j4WmAv",
      "metadata": {
        "id": "n3iCq8j4WmAv"
      },
      "source": [
        "按下「shift + Enter」它會執行這一格並跳到下一格，完成執行後左方會顯示數字而不是箭頭，這些是使用到的程式庫，如果沒安裝，它檢查完會去安裝，如果已經安裝了很快就跳到下一格。"
      ]
    },
    {
      "cell_type": "code",
      "execution_count": null,
      "id": "JWRpUK2xT8kO",
      "metadata": {
        "colab": {
          "base_uri": "https://localhost:8080/"
        },
        "id": "JWRpUK2xT8kO",
        "outputId": "2d34513b-4812-4ceb-d82b-01c6538d6c56"
      },
      "outputs": [],
      "source": [
        "# 安裝必要的程式庫\n",
        "%pip install -q openai-whisper ffmpeg-python opencc_python_reimplemented pydub\n",
        "# 更新程式庫\n",
        "%pip install --upgrade -q openai-whisper ffmpeg-python opencc_python_reimplemented pydub"
      ]
    },
    {
      "cell_type": "code",
      "execution_count": null,
      "id": "b4f73350",
      "metadata": {},
      "outputs": [],
      "source": [
        "# 檢查是否安裝成功\n",
        "import importlib\n",
        "\n",
        "packages = {\n",
        "    \"openai-whisper\": \"whisper\",\n",
        "    \"ffmpeg-python\": \"ffmpeg\",\n",
        "    \"opencc-python-reimplemented\": \"opencc\",\n",
        "    \"pydub\": \"pydub\"\n",
        "}\n",
        "\n",
        "for pkg, import_name in packages.items():\n",
        "    try:\n",
        "        importlib.import_module(import_name)\n",
        "        print(f\"{pkg} is installed as {import_name}.\")\n",
        "    except ImportError:\n",
        "        print(f\"{pkg} is not installed.\")\n"
      ]
    },
    {
      "cell_type": "markdown",
      "id": "81f11bdc-458d-4df9-88f0-a034333158ff",
      "metadata": {
        "id": "81f11bdc-458d-4df9-88f0-a034333158ff"
      },
      "source": [
        "# 上傳檔案及找到檔案路徑"
      ]
    },
    {
      "cell_type": "markdown",
      "id": "dMyTPa1vW9wy",
      "metadata": {
        "id": "dMyTPa1vW9wy"
      },
      "source": [
        "1. 把你要轉換的原檔案存入「convert_files」檔案夾之下。\n",
        "    * 如果你在本機使用 Anaconda/ JupyterLab/ VSCode，就直接把檔案放進「convert_files」檔案夾中；\n",
        "    * 如果在 Colab 等雲端，從側邊欄上傳檔案到「convert_files」檔案夾中。 \n",
        "2. 這個程式設定用 MP3 格式，如果不是 MP3，它會轉換 WAV（錄音筆）, MP4（影音檔）, M4A（iPhone/ Mac 錄音檔） 這幾種常用格式，其他沒測過。\n",
        "3. 確定檔案擺好後執行這一格，你的檔案路徑會顯示在下面（例如：r\"./convert_files/filename.mp3\"），整行複製下來。"
      ]
    },
    {
      "cell_type": "code",
      "execution_count": null,
      "id": "80b1f9c2-018e-4252-b3b2-2dac17feffd3",
      "metadata": {
        "colab": {
          "base_uri": "https://localhost:8080/"
        },
        "id": "80b1f9c2-018e-4252-b3b2-2dac17feffd3",
        "outputId": "722a0db1-def4-4464-ee0b-da09c15f0a40"
      },
      "outputs": [],
      "source": [
        "import os\n",
        "from pathlib import Path\n",
        "\n",
        "# Root dir\n",
        "root_directory = Path(\".\")  # 設定根目錄為當前工作目錄\n",
        "\n",
        "# travel all the dirs/ files\n",
        "for file in root_directory.glob(\"convert_files/**/*\"):\n",
        "    if file.is_file():\n",
        "        # 使用 r\"\" 來表示原始字串\n",
        "        relative_path = file.relative_to(root_directory)\n",
        "        # 將 \\ 轉換為 /\n",
        "        relative_path_str = str(relative_path).replace(\"\\\\\", \"/\")\n",
        "        print(f\"r\\\"{relative_path_str}\\\"\")"
      ]
    },
    {
      "cell_type": "markdown",
      "id": "8375cc55",
      "metadata": {},
      "source": [
        "把你複製的待轉檔的檔案路徑貼到下面這一格，在「input_file_path =」的「=」（等號）後全部貼上。\n",
        "\n",
        "例如「input_file_path = r\"convert_files/file_name.mp4\"」，等號後包括 r、前後引號"
      ]
    },
    {
      "cell_type": "code",
      "execution_count": null,
      "id": "67b9c08a",
      "metadata": {},
      "outputs": [],
      "source": [
        "input_file_path = r\"convert_files/file_to_convert.wav\""
      ]
    },
    {
      "cell_type": "markdown",
      "id": "e3c88a6b",
      "metadata": {},
      "source": [
        "# 轉檔為 MP3"
      ]
    },
    {
      "cell_type": "markdown",
      "id": "d57cd8e8",
      "metadata": {},
      "source": [
        "偵測輸入檔案是影片還是聲音，分別用不同函式來轉換成 MP3，如果已經是 MP3 就不會動。"
      ]
    },
    {
      "cell_type": "code",
      "execution_count": null,
      "id": "fc00d7d1",
      "metadata": {},
      "outputs": [],
      "source": [
        "import os\n",
        "from pydub import AudioSegment\n",
        "import subprocess\n",
        "import ffmpeg  # 將 ffmpeg 直接導入這裡\n",
        "\n",
        "def convert_file(input_file_path):\n",
        "    # 取得檔案的副檔名\n",
        "    _, ext = os.path.splitext(input_file_path)\n",
        "    \n",
        "    # 根據副檔名選擇轉換方式\n",
        "    if ext.lower() == '.mp3':\n",
        "        print(f\"{input_file_path} 是 MP3 檔案，不需要轉換。\")\n",
        "        return input_file_path\n",
        "    elif ext.lower() == '.mp4':\n",
        "        print(f\"{input_file_path} 是 MP4 檔案，進行影片轉換。\")\n",
        "        output_file_path = convert_video_to_mp3(input_file_path)\n",
        "        return output_file_path\n",
        "    elif ext.lower() in ['.m4a', '.wav']:\n",
        "        print(f\"{input_file_path} 是 {ext.upper()} 檔案，進行音訊轉換。\")\n",
        "        output_file_path = convert_audio_to_mp3(input_file_path)\n",
        "        return output_file_path\n",
        "    else:\n",
        "        print(f\"不支持的檔案格式：{ext}，無法進行轉換。\")\n",
        "        return None\n",
        "\n",
        "def convert_video_to_mp3(input_file_path):\n",
        "    base, _ = os.path.splitext(input_file_path)\n",
        "    output_file_path = f\"{base}_converted.mp3\"\n",
        "    \n",
        "    # 使用 subprocess 調用 ffmpeg 命令進行轉換\n",
        "    command = f\"ffmpeg -i {input_file_path} -vn -ar 44100 -ac 2 -b:a 192k {output_file_path}\"\n",
        "    subprocess.call(command, shell=True)\n",
        "    \n",
        "    return output_file_path\n",
        "\n",
        "def convert_audio_to_mp3(input_file):\n",
        "    base_name = os.path.splitext(input_file)[0]\n",
        "    output_file = f\"{base_name}_converted.mp3\"\n",
        "\n",
        "    # 如果已是 mp3，就不轉換\n",
        "    if input_file.lower().endswith('.mp3'):\n",
        "        return input_file\n",
        "\n",
        "    # 轉換為 mp3\n",
        "    audio = AudioSegment.from_file(input_file)\n",
        "    audio.export(output_file, format=\"mp3\")\n",
        "    return output_file"
      ]
    },
    {
      "cell_type": "markdown",
      "id": "5c6b0420",
      "metadata": {},
      "source": [
        "執行下面這格進行轉檔，不論檔案格式，執行就對了。"
      ]
    },
    {
      "cell_type": "code",
      "execution_count": null,
      "id": "e931716c",
      "metadata": {},
      "outputs": [],
      "source": [
        "converted_file= convert_file(input_file_path)"
      ]
    },
    {
      "cell_type": "markdown",
      "id": "30051cca-32e4-4730-9db7-1496fe1efd61",
      "metadata": {
        "id": "30051cca-32e4-4730-9db7-1496fe1efd61"
      },
      "source": [
        "# 進行聽打"
      ]
    },
    {
      "cell_type": "markdown",
      "id": "e5254f5a",
      "metadata": {},
      "source": [
        "執行下一格會開始聽打，如果錄音很長，會需要一陣子，請耐心等待。"
      ]
    },
    {
      "cell_type": "code",
      "execution_count": null,
      "id": "bd1f387d-fb3c-4b12-8d97-10eb397b8b7e",
      "metadata": {
        "colab": {
          "base_uri": "https://localhost:8080/"
        },
        "id": "bd1f387d-fb3c-4b12-8d97-10eb397b8b7e",
        "outputId": "c0f442b3-30ed-4367-9e4d-28a65cba6389"
      },
      "outputs": [],
      "source": [
        "import whisper\n",
        "import time\n",
        "from IPython.display import display, clear_output\n",
        "import os\n",
        "import opencc\n",
        "\n",
        "# 載入 Whisper 模型\n",
        "model = whisper.load_model(\"medium\")  # small / medium / large\n",
        "\n",
        "# 記錄開始時間\n",
        "start_time = time.time()\n",
        "\n",
        "# 進行聽打，指定語言為中文（不然它會翻譯成英文）\n",
        "try:\n",
        "    result = model.transcribe(converted_file, language=\"zh\")  # 使用转换后的文件路径\n",
        "except Exception as e:\n",
        "    clear_output(wait=True)\n",
        "    display(f\"識別過程中出現錯誤: {str(e)}\")\n",
        "    raise\n",
        "\n",
        "# 記錄結束時間及總執行時間\n",
        "end_time = time.time()\n",
        "elapsed_time = end_time - start_time\n",
        "display(f\"識別過程共花費了 {elapsed_time:.2f} 秒\")\n",
        "\n",
        "# 獲取轉錄的文本和分段信息\n",
        "recognized_text = result[\"text\"]\n",
        "segments = result.get(\"segments\", [])\n",
        "\n",
        "# 用 opencc 將簡中轉換為繁中（default 是簡中）\n",
        "converter = opencc.OpenCC('s2t')\n",
        "recognized_text = converter.convert(recognized_text)\n",
        "\n",
        "# 在每個段落結尾添加中文全形逗號\n",
        "new_recognized_text = \"\"\n",
        "for segment in segments:\n",
        "    # 獲取段落文本\n",
        "    segment_text = segment[\"text\"]\n",
        "    # 將段落文本轉換為繁體中文\n",
        "    segment_text = converter.convert(segment_text)\n",
        "    # 在段落尾部添加全形逗號\n",
        "    new_recognized_text += segment_text + \"，\"\n",
        "\n",
        "# 打印添加全形逗號後的文本\n",
        "print(\"添加全形逗號後的文本：\")\n",
        "print(new_recognized_text)\n",
        "\n",
        "# 生成輸出文件路徑\n",
        "input_file_name = os.path.basename(input_file_path)  # 獲取輸入文件名\n",
        "input_file_name_without_ext = os.path.splitext(input_file_name)[0]  # 去除擴展名\n",
        "output_file_name = f\"{input_file_name_without_ext}_output.txt\"  # 生成輸出文件名\n",
        "output_file_path = os.path.join(os.path.dirname(input_file_path), output_file_name)  # 生成完整的輸出文件路徑\n",
        "\n",
        "# 將文本保存到 txt 文件\n",
        "with open(output_file_path, \"w\", encoding=\"utf-8\") as file:\n",
        "    file.write(new_recognized_text)\n",
        "\n",
        "print(\"文本已保存到\", output_file_path)"
      ]
    },
    {
      "cell_type": "markdown",
      "id": "mc8kDgGDXeVv",
      "metadata": {
        "id": "mc8kDgGDXeVv"
      },
      "source": [
        "# 下載完成的文字檔\n",
        "最後，從左側邊欄的「convert_files」檔案夾中下載「原檔名_output.txt」。"
      ]
    }
  ],
  "metadata": {
    "colab": {
      "provenance": []
    },
    "jpcodetoc-autonumbering": true,
    "jpcodetoc-showcode": false,
    "jpcodetoc-showmarkdowntxt": true,
    "kernelspec": {
      "display_name": "base",
      "language": "python",
      "name": "python3"
    },
    "language_info": {
      "codemirror_mode": {
        "name": "ipython",
        "version": 3
      },
      "file_extension": ".py",
      "mimetype": "text/x-python",
      "name": "python",
      "nbconvert_exporter": "python",
      "pygments_lexer": "ipython3",
      "version": "3.11.7"
    }
  },
  "nbformat": 4,
  "nbformat_minor": 5
}
